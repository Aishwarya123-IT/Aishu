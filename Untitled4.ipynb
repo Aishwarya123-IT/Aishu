{
  "nbformat": 4,
  "nbformat_minor": 0,
  "metadata": {
    "colab": {
      "provenance": [],
      "authorship_tag": "ABX9TyMV7Omz2hGQ0X1AyaZZL7s7",
      "include_colab_link": true
    },
    "kernelspec": {
      "name": "python3",
      "display_name": "Python 3"
    },
    "language_info": {
      "name": "python"
    }
  },
  "cells": [
    {
      "cell_type": "markdown",
      "metadata": {
        "id": "view-in-github",
        "colab_type": "text"
      },
      "source": [
        "<a href=\"https://colab.research.google.com/github/Aishwaryaifim/Aishu/blob/main/Untitled4.ipynb\" target=\"_parent\"><img src=\"https://colab.research.google.com/assets/colab-badge.svg\" alt=\"Open In Colab\"/></a>"
      ]
    },
    {
      "cell_type": "code",
      "execution_count": null,
      "metadata": {
        "id": "rqkcO-x-OT6N"
      },
      "outputs": [],
      "source": [
        "from turtle import\n",
        "colour(\"red\")\n",
        "begin_fill()\n",
        "pensize(3)\n",
        "left(50)\n",
        "forword(133)\n",
        "circle(50,200)\n",
        "right(140)\n",
        "circle(50,200)\n",
        "forword(133)\n",
        "end fill()"
      ]
    }
  ]
}